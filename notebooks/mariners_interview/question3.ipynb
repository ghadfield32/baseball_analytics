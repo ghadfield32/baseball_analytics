{
 "cells": [
  {
   "cell_type": "markdown",
   "metadata": {},
   "source": [
    "Recent Mistake by the Mariners Organization: Pitching Strategy and Roster Management\n",
    "\n",
    "One recent mistake by the Mariners organization has been their reluctance to adopt a more flexible pitching strategy to address late-game performance issues. The team’s away record underscores this concern, with several close losses stemming from bullpen struggles. Despite having a strong starting rotation featuring arms like Castillo, Gilbert, and Kirby, the bullpen’s inconsistency in closing out games remains a problem. The Mariners’ save percentage, around league average, indicates that while the talent is there with relievers like Andrés Muñoz, the overall depth and strategic utilization need improvement.\n",
    "\n",
    "A potential solution could involve adding one or two versatile starters who could serve as a bridge or late-game option. These pitchers would enter games after the primary starter reaches the 4th or 5th inning, taking over to finish or bridge depending on the game’s context. This approach leverages the strengths of an expanded rotation while reducing the exposure of less reliable relievers in high-leverage situations. Using starters in this manner has the dual benefit of keeping opposing lineups off balance and minimizing bullpen fatigue over a long season.\n",
    "\n",
    "This strategy would require a shift in the Mariners’ pitcher usage philosophy but could significantly improve their ability to secure close games, similar to how the Rays have successfully employed a “bulk” pitcher following a shorter start. It could mitigate late-game collapses, boosting the team’s away record and overall performance.\n",
    "\n",
    "Moreover, adding a hitter with the profile of a Vinnie Pasquantino—contact-oriented with a high on-base percentage—would stabilize the lineup. While the rotation is impressive, adding versatile pitching and hitting options would better position the Mariners to close games and capitalize on offensive opportunities, reducing late-game issues that have plagued them this season."
   ]
  }
 ],
 "metadata": {
  "kernelspec": {
   "display_name": "data_science_baseball",
   "language": "python",
   "name": "python3"
  },
  "language_info": {
   "codemirror_mode": {
    "name": "ipython",
    "version": 3
   },
   "file_extension": ".py",
   "mimetype": "text/x-python",
   "name": "python",
   "nbconvert_exporter": "python",
   "pygments_lexer": "ipython3",
   "version": "3.10.15"
  }
 },
 "nbformat": 4,
 "nbformat_minor": 2
}
